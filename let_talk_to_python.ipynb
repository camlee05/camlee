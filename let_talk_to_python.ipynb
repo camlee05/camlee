{
 "cells": [
  {
   "cell_type": "markdown",
   "id": "ce594aa1",
   "metadata": {},
   "source": [
    "# Let talk to Python"
   ]
  },
  {
   "cell_type": "markdown",
   "id": "e12f20a1",
   "metadata": {},
   "source": [
    "## Math"
   ]
  },
  {
   "cell_type": "code",
   "execution_count": 1,
   "id": "0240e1ed",
   "metadata": {},
   "outputs": [
    {
     "data": {
      "text/plain": [
       "9"
      ]
     },
     "execution_count": 1,
     "metadata": {},
     "output_type": "execute_result"
    }
   ],
   "source": [
    "# Phép cộng\n",
    "1 + 2 + 6 "
   ]
  },
  {
   "cell_type": "code",
   "execution_count": 2,
   "id": "49ad4010",
   "metadata": {},
   "outputs": [
    {
     "data": {
      "text/plain": [
       "-4"
      ]
     },
     "execution_count": 2,
     "metadata": {},
     "output_type": "execute_result"
    }
   ],
   "source": [
    "# Phép trừ\n",
    "9 - 5 - 8"
   ]
  },
  {
   "cell_type": "code",
   "execution_count": 3,
   "id": "5287371c",
   "metadata": {},
   "outputs": [
    {
     "data": {
      "text/plain": [
       "15"
      ]
     },
     "execution_count": 3,
     "metadata": {},
     "output_type": "execute_result"
    }
   ],
   "source": [
    "# Phép nhân\n",
    "3 * 5"
   ]
  },
  {
   "cell_type": "code",
   "execution_count": 4,
   "id": "b4bd48bb",
   "metadata": {},
   "outputs": [
    {
     "data": {
      "text/plain": [
       "3.0"
      ]
     },
     "execution_count": 4,
     "metadata": {},
     "output_type": "execute_result"
    }
   ],
   "source": [
    "# Phép chia\n",
    "9 / 3"
   ]
  },
  {
   "cell_type": "code",
   "execution_count": 5,
   "id": "b5620c16",
   "metadata": {},
   "outputs": [
    {
     "data": {
      "text/plain": [
       "3.33333"
      ]
     },
     "execution_count": 5,
     "metadata": {},
     "output_type": "execute_result"
    }
   ],
   "source": [
    "round (10/3,5)"
   ]
  },
  {
   "cell_type": "code",
   "execution_count": 6,
   "id": "91af1fe0",
   "metadata": {},
   "outputs": [],
   "source": [
    "? round"
   ]
  },
  {
   "cell_type": "code",
   "execution_count": 7,
   "id": "a37942f1",
   "metadata": {},
   "outputs": [
    {
     "data": {
      "text/plain": [
       "True"
      ]
     },
     "execution_count": 7,
     "metadata": {},
     "output_type": "execute_result"
    }
   ],
   "source": [
    "5 == 5"
   ]
  },
  {
   "cell_type": "code",
   "execution_count": 8,
   "id": "4054a383",
   "metadata": {},
   "outputs": [
    {
     "data": {
      "text/plain": [
       "False"
      ]
     },
     "execution_count": 8,
     "metadata": {},
     "output_type": "execute_result"
    }
   ],
   "source": [
    "1 == 2"
   ]
  },
  {
   "cell_type": "code",
   "execution_count": 9,
   "id": "8bf12d8b",
   "metadata": {},
   "outputs": [
    {
     "data": {
      "text/plain": [
       "True"
      ]
     },
     "execution_count": 9,
     "metadata": {},
     "output_type": "execute_result"
    }
   ],
   "source": [
    "1 != 2 "
   ]
  },
  {
   "cell_type": "code",
   "execution_count": 10,
   "id": "019e6358",
   "metadata": {},
   "outputs": [
    {
     "data": {
      "text/plain": [
       "True"
      ]
     },
     "execution_count": 10,
     "metadata": {},
     "output_type": "execute_result"
    }
   ],
   "source": [
    "1 < 2"
   ]
  },
  {
   "cell_type": "code",
   "execution_count": 11,
   "id": "57787ed9",
   "metadata": {},
   "outputs": [
    {
     "data": {
      "text/plain": [
       "False"
      ]
     },
     "execution_count": 11,
     "metadata": {},
     "output_type": "execute_result"
    }
   ],
   "source": [
    "1 > 2"
   ]
  },
  {
   "cell_type": "code",
   "execution_count": 12,
   "id": "d2f73f8c",
   "metadata": {},
   "outputs": [
    {
     "data": {
      "text/plain": [
       "True"
      ]
     },
     "execution_count": 12,
     "metadata": {},
     "output_type": "execute_result"
    }
   ],
   "source": [
    "6 <= 7"
   ]
  },
  {
   "cell_type": "code",
   "execution_count": 13,
   "id": "410fec51",
   "metadata": {},
   "outputs": [
    {
     "data": {
      "text/plain": [
       "True"
      ]
     },
     "execution_count": 13,
     "metadata": {},
     "output_type": "execute_result"
    }
   ],
   "source": [
    "5 < 4 + 3"
   ]
  },
  {
   "cell_type": "code",
   "execution_count": 14,
   "id": "c9f3ac63",
   "metadata": {},
   "outputs": [
    {
     "data": {
      "text/plain": [
       "True"
      ]
     },
     "execution_count": 14,
     "metadata": {},
     "output_type": "execute_result"
    }
   ],
   "source": [
    "1 + 1 >= 1"
   ]
  },
  {
   "cell_type": "code",
   "execution_count": 15,
   "id": "bb26b591",
   "metadata": {},
   "outputs": [
    {
     "data": {
      "text/plain": [
       "4"
      ]
     },
     "execution_count": 15,
     "metadata": {},
     "output_type": "execute_result"
    }
   ],
   "source": [
    "# Phép chia lấy phần nguyên\n",
    "9 // 2"
   ]
  },
  {
   "cell_type": "code",
   "execution_count": 16,
   "id": "354f58ed",
   "metadata": {},
   "outputs": [
    {
     "data": {
      "text/plain": [
       "1"
      ]
     },
     "execution_count": 16,
     "metadata": {},
     "output_type": "execute_result"
    }
   ],
   "source": [
    "# Phép chia lấy phần dư\n",
    "9 % 2"
   ]
  },
  {
   "cell_type": "code",
   "execution_count": 17,
   "id": "501c20b5",
   "metadata": {},
   "outputs": [
    {
     "data": {
      "text/plain": [
       "8"
      ]
     },
     "execution_count": 17,
     "metadata": {},
     "output_type": "execute_result"
    }
   ],
   "source": [
    "# lũy thừa\n",
    "2 ** 3"
   ]
  },
  {
   "cell_type": "markdown",
   "id": "a0a0fdf9",
   "metadata": {},
   "source": [
    "## Strings"
   ]
  },
  {
   "cell_type": "code",
   "execution_count": 18,
   "id": "0332a4aa",
   "metadata": {},
   "outputs": [
    {
     "data": {
      "text/plain": [
       "'Hello!'"
      ]
     },
     "execution_count": 18,
     "metadata": {},
     "output_type": "execute_result"
    }
   ],
   "source": [
    "\"Hello!\""
   ]
  },
  {
   "cell_type": "markdown",
   "id": "d00e16a9",
   "metadata": {},
   "source": [
    "### String operators\n",
    "- Concatenation: +\n",
    "- Multiplication: *"
   ]
  },
  {
   "cell_type": "code",
   "execution_count": 19,
   "id": "2e43daea",
   "metadata": {},
   "outputs": [
    {
     "data": {
      "text/plain": [
       "'HiThere'"
      ]
     },
     "execution_count": 19,
     "metadata": {},
     "output_type": "execute_result"
    }
   ],
   "source": [
    "\"Hi\"+ \"There\""
   ]
  },
  {
   "cell_type": "code",
   "execution_count": 20,
   "id": "7b0d954a",
   "metadata": {},
   "outputs": [
    {
     "data": {
      "text/plain": [
       "'HaHaHaHaHaHaHaHaHaHaHaHaHaHaHaHaHaHaHaHaHaHaHaHaHaHaHaHaHaHaHaHaHaHaHaHaHaHaHaHaHaHaHaHaHaHaHaHaHaHaHaHaHaHaHaHaHaHaHaHaHaHaHaHaHaHaHaHaHaHaHaHaHaHaHaHaHaHaHaHaHaHaHaHaHaHaHaHaHaHaHaHaHaHaHaHaHaHaHaHaHaHaHaHaHaHaHaHaHaHaHaHaHaHaHaHaHaHaHaHaHaHaHaHaHaHaHaHaHaHaHaHaHaHaHaHaHaHaHaHaHaHaHaHaHaHaHaHaHaHaHaHaHaHaHaHaHaHaHaHaHaHaHaHaHaHaHaHaHaHaHaHaHaHaHaHaHaHaHaHaHaHaHaHaHaHaHaHaHaHaHaHaHaHaHaHaHaHaHaHaHaHaHaHaHaHaHaHaHaHaHaHaHaHaHaHaHaHaHaHaHaHaHaHaHaHaHaHaHaHaHaHaHaHaHaHaHaHaHaHaHaHaHaHaHaHaHaHaHaHa'"
      ]
     },
     "execution_count": 20,
     "metadata": {},
     "output_type": "execute_result"
    }
   ],
   "source": [
    "\"Ha\" * 250"
   ]
  },
  {
   "cell_type": "markdown",
   "id": "8fc0d8ab",
   "metadata": {},
   "source": [
    "# String index\n",
    "Rules:\n",
    "- Indexes start at 0\n",
    "- Spaces inside the string are counted"
   ]
  },
  {
   "cell_type": "code",
   "execution_count": 21,
   "id": "2cd2d9c1",
   "metadata": {},
   "outputs": [
    {
     "data": {
      "text/plain": [
       "'Hello'"
      ]
     },
     "execution_count": 21,
     "metadata": {},
     "output_type": "execute_result"
    }
   ],
   "source": [
    "\"H\"+\"e\"+\"l\"+\"l\"+\"o\""
   ]
  },
  {
   "cell_type": "code",
   "execution_count": 22,
   "id": "dc1ee907",
   "metadata": {},
   "outputs": [
    {
     "data": {
      "text/plain": [
       "'H'"
      ]
     },
     "execution_count": 22,
     "metadata": {},
     "output_type": "execute_result"
    }
   ],
   "source": [
    "'Hello' [0]"
   ]
  },
  {
   "cell_type": "code",
   "execution_count": 23,
   "id": "a6e9d209",
   "metadata": {},
   "outputs": [
    {
     "data": {
      "text/plain": [
       "'o'"
      ]
     },
     "execution_count": 23,
     "metadata": {},
     "output_type": "execute_result"
    }
   ],
   "source": [
    "'Hello' [4]"
   ]
  },
  {
   "cell_type": "markdown",
   "id": "48cb1cab",
   "metadata": {},
   "source": [
    "## String functions"
   ]
  },
  {
   "cell_type": "code",
   "execution_count": 24,
   "id": "3c390acb",
   "metadata": {},
   "outputs": [
    {
     "data": {
      "text/plain": [
       "'CẨM LY'"
      ]
     },
     "execution_count": 24,
     "metadata": {},
     "output_type": "execute_result"
    }
   ],
   "source": [
    "\"cẩm ly\".upper()"
   ]
  },
  {
   "cell_type": "code",
   "execution_count": 25,
   "id": "4a085e11",
   "metadata": {},
   "outputs": [
    {
     "data": {
      "text/plain": [
       "'camlee'"
      ]
     },
     "execution_count": 25,
     "metadata": {},
     "output_type": "execute_result"
    }
   ],
   "source": [
    "\"CAMLEE\".lower()"
   ]
  },
  {
   "cell_type": "code",
   "execution_count": 26,
   "id": "373dffba",
   "metadata": {},
   "outputs": [
    {
     "data": {
      "text/plain": [
       "14"
      ]
     },
     "execution_count": 26,
     "metadata": {},
     "output_type": "execute_result"
    }
   ],
   "source": [
    "len(\"lê thị cẩm lee\")"
   ]
  },
  {
   "cell_type": "code",
   "execution_count": 27,
   "id": "64e06176",
   "metadata": {},
   "outputs": [
    {
     "data": {
      "text/plain": [
       "27"
      ]
     },
     "execution_count": 27,
     "metadata": {},
     "output_type": "execute_result"
    }
   ],
   "source": [
    "len(\"    This is a string       \")"
   ]
  },
  {
   "cell_type": "code",
   "execution_count": 28,
   "id": "de677aa9",
   "metadata": {},
   "outputs": [
    {
     "data": {
      "text/plain": [
       "'This is a string'"
      ]
     },
     "execution_count": 28,
     "metadata": {},
     "output_type": "execute_result"
    }
   ],
   "source": [
    "\"This is a string\".strip()"
   ]
  },
  {
   "cell_type": "code",
   "execution_count": 29,
   "id": "0c4b7281",
   "metadata": {},
   "outputs": [
    {
     "data": {
      "text/plain": [
       "True"
      ]
     },
     "execution_count": 29,
     "metadata": {},
     "output_type": "execute_result"
    }
   ],
   "source": [
    "\"#This is a string\".startswith(\"#\")"
   ]
  },
  {
   "cell_type": "code",
   "execution_count": 30,
   "id": "b1500abb",
   "metadata": {},
   "outputs": [
    {
     "data": {
      "text/plain": [
       "False"
      ]
     },
     "execution_count": 30,
     "metadata": {},
     "output_type": "execute_result"
    }
   ],
   "source": [
    "\"#This is a string*\".endswith(\"#\")"
   ]
  },
  {
   "cell_type": "code",
   "execution_count": 31,
   "id": "497c3c85",
   "metadata": {},
   "outputs": [
    {
     "data": {
      "text/plain": [
       "True"
      ]
     },
     "execution_count": 31,
     "metadata": {},
     "output_type": "execute_result"
    }
   ],
   "source": [
    "\"#This is a string\".endswith(\"string\")"
   ]
  },
  {
   "cell_type": "code",
   "execution_count": 32,
   "id": "84eead47",
   "metadata": {},
   "outputs": [
    {
     "data": {
      "text/plain": [
       "'llo'"
      ]
     },
     "execution_count": 32,
     "metadata": {},
     "output_type": "execute_result"
    }
   ],
   "source": [
    "#Substring\n",
    "\"Hello world!\" [2:5]"
   ]
  },
  {
   "cell_type": "code",
   "execution_count": 33,
   "id": "6c8043c1",
   "metadata": {},
   "outputs": [
    {
     "data": {
      "text/plain": [
       "'!'"
      ]
     },
     "execution_count": 33,
     "metadata": {},
     "output_type": "execute_result"
    }
   ],
   "source": [
    "\"Hello world!\"[-1]"
   ]
  },
  {
   "cell_type": "markdown",
   "id": "0fccbd16",
   "metadata": {},
   "source": [
    "# Variable"
   ]
  },
  {
   "cell_type": "code",
   "execution_count": 34,
   "id": "e61e3bba",
   "metadata": {},
   "outputs": [],
   "source": [
    "a=14*14"
   ]
  },
  {
   "cell_type": "code",
   "execution_count": 35,
   "id": "04f8c807",
   "metadata": {},
   "outputs": [
    {
     "data": {
      "text/plain": [
       "196"
      ]
     },
     "execution_count": 35,
     "metadata": {},
     "output_type": "execute_result"
    }
   ],
   "source": [
    "a"
   ]
  },
  {
   "cell_type": "code",
   "execution_count": 36,
   "id": "2cad4cd3",
   "metadata": {},
   "outputs": [],
   "source": [
    "b=20"
   ]
  },
  {
   "cell_type": "code",
   "execution_count": 37,
   "id": "11cb76c0",
   "metadata": {},
   "outputs": [
    {
     "data": {
      "text/plain": [
       "20"
      ]
     },
     "execution_count": 37,
     "metadata": {},
     "output_type": "execute_result"
    }
   ],
   "source": [
    "b"
   ]
  },
  {
   "cell_type": "code",
   "execution_count": 38,
   "id": "43fcf65f",
   "metadata": {},
   "outputs": [
    {
     "name": "stdout",
     "output_type": "stream",
     "text": [
      "hello\n"
     ]
    }
   ],
   "source": [
    "print (\"hello\")"
   ]
  },
  {
   "cell_type": "code",
   "execution_count": 39,
   "id": "70b995d9",
   "metadata": {},
   "outputs": [
    {
     "data": {
      "text/plain": [
       "3920"
      ]
     },
     "execution_count": 39,
     "metadata": {},
     "output_type": "execute_result"
    }
   ],
   "source": [
    "a*b"
   ]
  },
  {
   "cell_type": "code",
   "execution_count": 40,
   "id": "8dd5c57f",
   "metadata": {},
   "outputs": [
    {
     "data": {
      "text/plain": [
       "176"
      ]
     },
     "execution_count": 40,
     "metadata": {},
     "output_type": "execute_result"
    }
   ],
   "source": [
    "a-b"
   ]
  },
  {
   "cell_type": "markdown",
   "id": "2d6ee586",
   "metadata": {},
   "source": [
    "## Type of data"
   ]
  },
  {
   "cell_type": "code",
   "execution_count": 41,
   "id": "2f063ae8",
   "metadata": {},
   "outputs": [],
   "source": [
    "s = \"Hello\""
   ]
  },
  {
   "cell_type": "code",
   "execution_count": 42,
   "id": "e099cb5e",
   "metadata": {},
   "outputs": [
    {
     "data": {
      "text/plain": [
       "str"
      ]
     },
     "execution_count": 42,
     "metadata": {},
     "output_type": "execute_result"
    }
   ],
   "source": [
    "type(s)"
   ]
  },
  {
   "cell_type": "code",
   "execution_count": 43,
   "id": "cfc7935c",
   "metadata": {},
   "outputs": [],
   "source": [
    "s = 5 "
   ]
  },
  {
   "cell_type": "code",
   "execution_count": 44,
   "id": "8b79a527",
   "metadata": {},
   "outputs": [
    {
     "data": {
      "text/plain": [
       "int"
      ]
     },
     "execution_count": 44,
     "metadata": {},
     "output_type": "execute_result"
    }
   ],
   "source": [
    "type(s)"
   ]
  },
  {
   "cell_type": "code",
   "execution_count": 45,
   "id": "89eb3a30",
   "metadata": {},
   "outputs": [],
   "source": [
    "s = 2.9"
   ]
  },
  {
   "cell_type": "code",
   "execution_count": 46,
   "id": "22a431c6",
   "metadata": {},
   "outputs": [
    {
     "data": {
      "text/plain": [
       "float"
      ]
     },
     "execution_count": 46,
     "metadata": {},
     "output_type": "execute_result"
    }
   ],
   "source": [
    "type(s)"
   ]
  },
  {
   "cell_type": "markdown",
   "id": "5f511900",
   "metadata": {},
   "source": [
    "## Booleans"
   ]
  },
  {
   "cell_type": "code",
   "execution_count": 47,
   "id": "ae49ccc2",
   "metadata": {},
   "outputs": [
    {
     "data": {
      "text/plain": [
       "True"
      ]
     },
     "execution_count": 47,
     "metadata": {},
     "output_type": "execute_result"
    }
   ],
   "source": [
    "True"
   ]
  },
  {
   "cell_type": "code",
   "execution_count": 48,
   "id": "327e04e0",
   "metadata": {},
   "outputs": [
    {
     "ename": "NameError",
     "evalue": "name 'true' is not defined",
     "output_type": "error",
     "traceback": [
      "\u001b[0;31m---------------------------------------------------------------------------\u001b[0m",
      "\u001b[0;31mNameError\u001b[0m                                 Traceback (most recent call last)",
      "Cell \u001b[0;32mIn [48], line 1\u001b[0m\n\u001b[0;32m----> 1\u001b[0m \u001b[43mtrue\u001b[49m\n",
      "\u001b[0;31mNameError\u001b[0m: name 'true' is not defined"
     ]
    }
   ],
   "source": [
    "true"
   ]
  },
  {
   "cell_type": "code",
   "execution_count": null,
   "id": "306822fa",
   "metadata": {},
   "outputs": [],
   "source": [
    "False"
   ]
  },
  {
   "cell_type": "code",
   "execution_count": null,
   "id": "7b5b4c83",
   "metadata": {},
   "outputs": [],
   "source": [
    "1==1 and 2==2"
   ]
  },
  {
   "cell_type": "code",
   "execution_count": null,
   "id": "a04a4c8c",
   "metadata": {},
   "outputs": [],
   "source": [
    "True and False "
   ]
  },
  {
   "cell_type": "code",
   "execution_count": null,
   "id": "fd0cd2b2",
   "metadata": {},
   "outputs": [],
   "source": [
    "True and True"
   ]
  },
  {
   "cell_type": "code",
   "execution_count": null,
   "id": "47d554fc",
   "metadata": {},
   "outputs": [],
   "source": [
    "True and 1==1"
   ]
  },
  {
   "cell_type": "code",
   "execution_count": null,
   "id": "b1447439",
   "metadata": {},
   "outputs": [],
   "source": [
    "\"test\" == \"tests\""
   ]
  },
  {
   "cell_type": "markdown",
   "id": "0d324180",
   "metadata": {},
   "source": [
    "## Lists\n",
    "Danh sách là một chuỗi các đối tượng (objects)."
   ]
  },
  {
   "cell_type": "code",
   "execution_count": null,
   "id": "d24848b5",
   "metadata": {},
   "outputs": [],
   "source": [
    "fruit = [\"apple\",\"banana\",\"melon\",\"grape\"]"
   ]
  },
  {
   "cell_type": "code",
   "execution_count": null,
   "id": "6bdd4246",
   "metadata": {},
   "outputs": [],
   "source": [
    "type(fruit)"
   ]
  },
  {
   "cell_type": "code",
   "execution_count": null,
   "id": "24186dc1",
   "metadata": {},
   "outputs": [],
   "source": [
    "numbers = [2,3,4,5,6,7,7]"
   ]
  },
  {
   "cell_type": "code",
   "execution_count": null,
   "id": "c75058aa",
   "metadata": {},
   "outputs": [],
   "source": [
    "type(numbers)"
   ]
  },
  {
   "cell_type": "code",
   "execution_count": null,
   "id": "7d07ca7c",
   "metadata": {},
   "outputs": [],
   "source": [
    "ls = [1,2,\"banana\"]"
   ]
  },
  {
   "cell_type": "code",
   "execution_count": null,
   "id": "38312a50",
   "metadata": {},
   "outputs": [],
   "source": [
    "type(ls)"
   ]
  },
  {
   "cell_type": "code",
   "execution_count": null,
   "id": "5ace779d",
   "metadata": {},
   "outputs": [],
   "source": [
    "fruit[0]"
   ]
  },
  {
   "cell_type": "code",
   "execution_count": null,
   "id": "f6376300",
   "metadata": {},
   "outputs": [],
   "source": [
    "ls[2]"
   ]
  },
  {
   "cell_type": "code",
   "execution_count": null,
   "id": "8db445f4",
   "metadata": {},
   "outputs": [],
   "source": [
    "colors=[\"red\",\"blue\",\"black\",\"pink\",\"yellow\",\"gray\"]"
   ]
  },
  {
   "cell_type": "code",
   "execution_count": null,
   "id": "0ba416a0",
   "metadata": {},
   "outputs": [],
   "source": [
    "type(colors)"
   ]
  },
  {
   "cell_type": "code",
   "execution_count": null,
   "id": "4434c82a",
   "metadata": {},
   "outputs": [],
   "source": [
    "colors[2]"
   ]
  },
  {
   "cell_type": "markdown",
   "id": "f3316acc",
   "metadata": {},
   "source": [
    "### Một số hàm/ phương thức cho list"
   ]
  },
  {
   "cell_type": "markdown",
   "id": "a333d128",
   "metadata": {},
   "source": [
    "Slicing: lấy ra danh sách con \n",
    "ls[begin:end:step]"
   ]
  },
  {
   "cell_type": "code",
   "execution_count": null,
   "id": "07ac32f4",
   "metadata": {},
   "outputs": [],
   "source": [
    "lst=[10, 20, 30, 40, 50, 60, 70, 80, 90]"
   ]
  },
  {
   "cell_type": "code",
   "execution_count": null,
   "id": "571883d9",
   "metadata": {},
   "outputs": [],
   "source": [
    "lst[0:3:1]"
   ]
  },
  {
   "cell_type": "code",
   "execution_count": null,
   "id": "d81c3236",
   "metadata": {},
   "outputs": [],
   "source": [
    "lst[0:3:2]"
   ]
  },
  {
   "cell_type": "code",
   "execution_count": null,
   "id": "303ff316",
   "metadata": {},
   "outputs": [],
   "source": [
    "lst[::-1]"
   ]
  },
  {
   "cell_type": "code",
   "execution_count": null,
   "id": "e1bb6fe2",
   "metadata": {},
   "outputs": [],
   "source": [
    "# Insert\n",
    "lst=[1,2,3]"
   ]
  },
  {
   "cell_type": "code",
   "execution_count": null,
   "id": "fd623807",
   "metadata": {},
   "outputs": [],
   "source": [
    "lst"
   ]
  },
  {
   "cell_type": "code",
   "execution_count": null,
   "id": "1157394b",
   "metadata": {},
   "outputs": [],
   "source": [
    "lst.insert(1,9)"
   ]
  },
  {
   "cell_type": "code",
   "execution_count": null,
   "id": "57c455bf",
   "metadata": {},
   "outputs": [],
   "source": [
    "lst"
   ]
  },
  {
   "cell_type": "code",
   "execution_count": null,
   "id": "f596d192",
   "metadata": {},
   "outputs": [],
   "source": [
    "#append: thêm vào cuối ds\n",
    "lst.append(11)"
   ]
  },
  {
   "cell_type": "code",
   "execution_count": null,
   "id": "db4a521c",
   "metadata": {},
   "outputs": [],
   "source": [
    "lst"
   ]
  },
  {
   "cell_type": "code",
   "execution_count": null,
   "id": "d055700e",
   "metadata": {},
   "outputs": [],
   "source": [
    "lst.append(8)"
   ]
  },
  {
   "cell_type": "code",
   "execution_count": null,
   "id": "78935aca",
   "metadata": {},
   "outputs": [],
   "source": [
    "lst"
   ]
  },
  {
   "cell_type": "code",
   "execution_count": null,
   "id": "8efb408e",
   "metadata": {},
   "outputs": [],
   "source": [
    "#Remove:xóa giá trị đầu tiên của ds\n",
    "lst.remove(1)"
   ]
  },
  {
   "cell_type": "code",
   "execution_count": null,
   "id": "9e2b791b",
   "metadata": {},
   "outputs": [],
   "source": [
    "lst"
   ]
  },
  {
   "cell_type": "code",
   "execution_count": null,
   "id": "9a39e0c9",
   "metadata": {},
   "outputs": [],
   "source": [
    "#reverse\n",
    "lst.reverse()"
   ]
  },
  {
   "cell_type": "code",
   "execution_count": null,
   "id": "cc168965",
   "metadata": {},
   "outputs": [],
   "source": [
    "lst"
   ]
  },
  {
   "cell_type": "code",
   "execution_count": null,
   "id": "c82c4df4",
   "metadata": {},
   "outputs": [],
   "source": [
    "del lst[3]"
   ]
  },
  {
   "cell_type": "code",
   "execution_count": null,
   "id": "2de160a2",
   "metadata": {},
   "outputs": [],
   "source": [
    "lst"
   ]
  },
  {
   "cell_type": "code",
   "execution_count": null,
   "id": "6b7a2f8e",
   "metadata": {},
   "outputs": [],
   "source": [
    "#sort: sắp xếp ds\n",
    "lst.sort()"
   ]
  },
  {
   "cell_type": "code",
   "execution_count": null,
   "id": "588cabb8",
   "metadata": {},
   "outputs": [],
   "source": [
    "lst"
   ]
  },
  {
   "cell_type": "markdown",
   "id": "fe181057",
   "metadata": {},
   "source": [
    "### Danh sách đa chiều (Ma trận là ds 2 chiều)"
   ]
  },
  {
   "cell_type": "code",
   "execution_count": null,
   "id": "de5eca11",
   "metadata": {},
   "outputs": [],
   "source": [
    "matrix = [\n",
    "    [1, 2, 3],\n",
    "    [2, 3, 1],\n",
    "    [3, 1, 2]\n",
    "]"
   ]
  },
  {
   "cell_type": "code",
   "execution_count": null,
   "id": "afe5d51b",
   "metadata": {},
   "outputs": [],
   "source": [
    "matrix"
   ]
  },
  {
   "cell_type": "code",
   "execution_count": null,
   "id": "6e70d154",
   "metadata": {},
   "outputs": [],
   "source": [
    "matrix[1][2]"
   ]
  },
  {
   "cell_type": "markdown",
   "id": "60482585",
   "metadata": {},
   "source": [
    "## Biểu thức điều kiện và còng lặp\n",
    "\n",
    "### if Statement"
   ]
  },
  {
   "cell_type": "code",
   "execution_count": null,
   "id": "0d240f94",
   "metadata": {},
   "outputs": [],
   "source": [
    "name = input(\"Tên bạn là:\")"
   ]
  },
  {
   "cell_type": "code",
   "execution_count": null,
   "id": "669d26d6",
   "metadata": {},
   "outputs": [],
   "source": [
    "if name == \"camlee\":\n",
    "    print(\"Hi camlee\")\n",
    "elif name == \"le\":\n",
    "    print(\"Hi le\")\n",
    "else: \n",
    "    print(\"Bye\",name)"
   ]
  },
  {
   "cell_type": "markdown",
   "id": "e029089c",
   "metadata": {},
   "source": [
    "## Loops (Vòng lặp)\n",
    "- Counting loops (lặp đếm)\n",
    "- Conditional loops (lặp điều kiện)"
   ]
  },
  {
   "cell_type": "code",
   "execution_count": null,
   "id": "8c5fcbaf",
   "metadata": {},
   "outputs": [],
   "source": [
    "#Countin loops-for\n",
    "for mynum in [1, 2, 3, 4, 5]:\n",
    "    newnum = mynum + 1\n",
    "    print(\"số mới là\", newnum)"
   ]
  },
  {
   "cell_type": "code",
   "execution_count": null,
   "id": "bdd7529c",
   "metadata": {},
   "outputs": [],
   "source": [
    "#Conditional loops-while\n",
    "count = 0 \n",
    "while (count < 10):\n",
    "    print(\"Số đếm là:\", count)\n",
    "    count = count + 1"
   ]
  },
  {
   "cell_type": "markdown",
   "id": "8dc643dd",
   "metadata": {},
   "source": [
    "## Break and continue"
   ]
  },
  {
   "cell_type": "code",
   "execution_count": null,
   "id": "b9b2c6ac",
   "metadata": {},
   "outputs": [],
   "source": [
    "#Break\n",
    "count = 0 \n",
    "while (count<10):\n",
    "    count=count+1\n",
    "    print(\"Số đếm là:\", count)\n",
    "    if count == 5:\n",
    "        break"
   ]
  },
  {
   "cell_type": "code",
   "execution_count": null,
   "id": "e9b6b395",
   "metadata": {},
   "outputs": [],
   "source": [
    "while True:\n",
    "    a = int(input(\"Nhập vào một số :\"))\n",
    "    print(\"Gía trị số bạn nhập là\",a)\n",
    "    s=input(\"Bạn có muốn tiếp tục ko?(C/K):\")\n",
    "    if s ==\n",
    "    print(\"Bye bye!\")"
   ]
  },
  {
   "cell_type": "markdown",
   "id": "408be118",
   "metadata": {},
   "source": [
    "# Functions (Hàm)"
   ]
  },
  {
   "cell_type": "code",
   "execution_count": null,
   "id": "e33dbc0a",
   "metadata": {},
   "outputs": [],
   "source": [
    "def say_hello():\n",
    "    print(\"Hello World!\")"
   ]
  },
  {
   "cell_type": "code",
   "execution_count": null,
   "id": "0842ffe1",
   "metadata": {},
   "outputs": [],
   "source": [
    "say_hello()"
   ]
  },
  {
   "cell_type": "code",
   "execution_count": null,
   "id": "27da0187",
   "metadata": {},
   "outputs": [],
   "source": [
    "# Có tham số \n",
    "def say_hello(myname):\n",
    "    print(\"Hello\", myname)"
   ]
  },
  {
   "cell_type": "code",
   "execution_count": null,
   "id": "4ed06a98",
   "metadata": {},
   "outputs": [],
   "source": [
    "say_hello(\"Ly\")"
   ]
  },
  {
   "cell_type": "code",
   "execution_count": null,
   "id": "a43d5378",
   "metadata": {},
   "outputs": [],
   "source": [
    "say_hello(\"Lan\")"
   ]
  },
  {
   "cell_type": "markdown",
   "id": "79b03e7c",
   "metadata": {},
   "source": [
    "### Bài tập:\n",
    "Viết một hàm: Kiểm tra một số là số lẻ hoặc số chẵn, in ra màn hình \"là số lẻ\" nếu số đó là số lẻ, \"là số chẵn\" nếu số đó là số chẵn "
   ]
  },
  {
   "cell_type": "code",
   "execution_count": null,
   "id": "a91e2136",
   "metadata": {},
   "outputs": [],
   "source": [
    "def checknb(a):\n",
    "    if a % 2 == 0:\n",
    "        print(\"Là số chẵn\")\n",
    "    else:\n",
    "        print(\"Là số lẻ\")"
   ]
  },
  {
   "cell_type": "code",
   "execution_count": null,
   "id": "8a4daaa7",
   "metadata": {},
   "outputs": [],
   "source": [
    "checknb(4)"
   ]
  },
  {
   "cell_type": "code",
   "execution_count": null,
   "id": "a9f56649",
   "metadata": {},
   "outputs": [],
   "source": [
    "checknb(5)"
   ]
  },
  {
   "cell_type": "markdown",
   "id": "6d47502e",
   "metadata": {},
   "source": [
    "### Bài tập:\n",
    "\n",
    "Viết một hàm có tham số là 2 số, in ra kết quả là tích của 2 số đó."
   ]
  },
  {
   "cell_type": "code",
   "execution_count": null,
   "id": "9296547c",
   "metadata": {},
   "outputs": [],
   "source": [
    "def tich(a,b):\n",
    "    c=a*b\n",
    "    print(c)"
   ]
  },
  {
   "cell_type": "code",
   "execution_count": null,
   "id": "bf7fe484",
   "metadata": {},
   "outputs": [],
   "source": [
    "tich(4,5)"
   ]
  },
  {
   "cell_type": "code",
   "execution_count": null,
   "id": "60ac4e11",
   "metadata": {},
   "outputs": [],
   "source": [
    "tich(2,6)"
   ]
  },
  {
   "cell_type": "code",
   "execution_count": null,
   "id": "0cc095ac",
   "metadata": {},
   "outputs": [],
   "source": [
    "tich(5,6)"
   ]
  },
  {
   "cell_type": "markdown",
   "id": "b9e90606",
   "metadata": {},
   "source": [
    "## Functions: Output (Gía trị trả về của hàm)\n",
    "sd return"
   ]
  },
  {
   "cell_type": "code",
   "execution_count": null,
   "id": "88c297d5",
   "metadata": {},
   "outputs": [],
   "source": [
    "tich(2,4)"
   ]
  },
  {
   "cell_type": "code",
   "execution_count": null,
   "id": "72e5f971",
   "metadata": {},
   "outputs": [],
   "source": [
    "kq=tich(2,4)"
   ]
  },
  {
   "cell_type": "code",
   "execution_count": null,
   "id": "45943166",
   "metadata": {},
   "outputs": [],
   "source": [
    "def tich(a,b):\n",
    "    return a*b"
   ]
  },
  {
   "cell_type": "code",
   "execution_count": null,
   "id": "4a14a60e",
   "metadata": {},
   "outputs": [],
   "source": [
    "tich(2,6)"
   ]
  },
  {
   "cell_type": "code",
   "execution_count": null,
   "id": "c1c34d19",
   "metadata": {},
   "outputs": [],
   "source": [
    "kq = tich(3,5)"
   ]
  },
  {
   "cell_type": "code",
   "execution_count": null,
   "id": "0562bceb",
   "metadata": {
    "scrolled": true
   },
   "outputs": [],
   "source": [
    "kq"
   ]
  },
  {
   "cell_type": "code",
   "execution_count": null,
   "id": "0cadd715",
   "metadata": {},
   "outputs": [],
   "source": [
    "def hello_there():\n",
    "    print (\"Type your name:\")\n",
    "    name = input()\n",
    "    print(\"Hi\", name, \"how are you?\")"
   ]
  },
  {
   "cell_type": "code",
   "execution_count": null,
   "id": "f7f8a2d2",
   "metadata": {},
   "outputs": [],
   "source": [
    "hello_there()"
   ]
  },
  {
   "cell_type": "markdown",
   "id": "df9485d4",
   "metadata": {},
   "source": [
    "## Modules"
   ]
  },
  {
   "cell_type": "code",
   "execution_count": null,
   "id": "7a1a6f3a",
   "metadata": {},
   "outputs": [],
   "source": [
    "import random"
   ]
  },
  {
   "cell_type": "code",
   "execution_count": null,
   "id": "c7d697d4",
   "metadata": {},
   "outputs": [],
   "source": [
    "random.randint(1, 100)"
   ]
  },
  {
   "cell_type": "code",
   "execution_count": null,
   "id": "2446dd68",
   "metadata": {},
   "outputs": [],
   "source": [
    "random.randint(1,10)"
   ]
  },
  {
   "cell_type": "code",
   "execution_count": null,
   "id": "951144a3",
   "metadata": {},
   "outputs": [],
   "source": [
    "mymodule.checknb(5)"
   ]
  },
  {
   "cell_type": "markdown",
   "id": "a03891c9",
   "metadata": {},
   "source": [
    "# Let make a game"
   ]
  },
  {
   "cell_type": "markdown",
   "id": "8e7cfab0",
   "metadata": {},
   "source": [
    "## Game 1\n",
    "Viết hàm guess1 chứa code trong sld 78\n"
   ]
  },
  {
   "cell_type": "code",
   "execution_count": null,
   "id": "480679db",
   "metadata": {},
   "outputs": [],
   "source": [
    "def guess1():\n",
    "    \"\"\"\n",
    "    Đoán số bí mật\n",
    "    \"\"\"\n",
    "    secret_number = 7\n",
    "    guess = input(\"What number am I thinking of? \")\n",
    "if secret_number == guess:\n",
    "    print(\"Yay! You got it.\")\n",
    "else:\n",
    "    print(\"No, that's not it.\")"
   ]
  },
  {
   "cell_type": "code",
   "execution_count": null,
   "id": "fc257922",
   "metadata": {},
   "outputs": [],
   "source": [
    "guess1()"
   ]
  },
  {
   "cell_type": "code",
   "execution_count": null,
   "id": "aee256b0",
   "metadata": {},
   "outputs": [],
   "source": [
    "guess1?"
   ]
  },
  {
   "cell_type": "markdown",
   "id": "9a13c785",
   "metadata": {},
   "source": [
    "## Game 2\n",
    "Viết hàm guess2 chứa code trong sld 79"
   ]
  },
  {
   "cell_type": "code",
   "execution_count": null,
   "id": "830a4d33",
   "metadata": {},
   "outputs": [],
   "source": [
    "def guess2():\n",
    "    from random import randint\n",
    "    secret_number = randint(1, 10)\n",
    "    while True:\n",
    "        guess = input(\"What number am I thinking of? \")\n",
    "        if secret_number == guess: \n",
    "            print(\"Yay! You got it.\")\n",
    "            break\n",
    "        else:\n",
    "            print(\"No, that's not it.\")"
   ]
  },
  {
   "cell_type": "code",
   "execution_count": null,
   "id": "e50933e1",
   "metadata": {},
   "outputs": [],
   "source": [
    "guess2()"
   ]
  },
  {
   "cell_type": "markdown",
   "id": "738ca2da",
   "metadata": {},
   "source": [
    "## Game 3\n",
    "Viết hàm guess3 chứa code trong sld 80"
   ]
  },
  {
   "cell_type": "code",
   "execution_count": null,
   "id": "f002ecdc",
   "metadata": {},
   "outputs": [],
   "source": [
    "def guess3():\n",
    "    from random import randint\n",
    "    secret_number = randint(1, 10)\n",
    "while True:\n",
    "    guess = input(\"What number am I thinking of? \")\n",
    "if secret_number == guess:\n",
    "    print(\"Yay! You got it.\")\n",
    "    break\n",
    "elif secret_number > guess:\n",
    "    print(\"No, that's too low.\")\n",
    "else:\n",
    "    print(\"No, that's too high.\")"
   ]
  },
  {
   "cell_type": "code",
   "execution_count": null,
   "id": "ba55342c",
   "metadata": {},
   "outputs": [],
   "source": [
    "guess3()"
   ]
  },
  {
   "cell_type": "code",
   "execution_count": null,
   "id": "dca9cbe4",
   "metadata": {},
   "outputs": [],
   "source": [
    "### Auto Reload module\n",
    "%load_ext autoreload\n",
    "%autoreload 2"
   ]
  },
  {
   "cell_type": "code",
   "execution_count": null,
   "id": "67901ce6",
   "metadata": {},
   "outputs": [],
   "source": [
    "import guess"
   ]
  },
  {
   "cell_type": "code",
   "execution_count": null,
   "id": "5fc8410f",
   "metadata": {},
   "outputs": [],
   "source": []
  },
  {
   "cell_type": "code",
   "execution_count": null,
   "id": "975c63b9",
   "metadata": {},
   "outputs": [],
   "source": []
  }
 ],
 "metadata": {
  "kernelspec": {
   "display_name": "Python 3 (ipykernel)",
   "language": "python",
   "name": "python3"
  },
  "language_info": {
   "codemirror_mode": {
    "name": "ipython",
    "version": 3
   },
   "file_extension": ".py",
   "mimetype": "text/x-python",
   "name": "python",
   "nbconvert_exporter": "python",
   "pygments_lexer": "ipython3",
   "version": "3.9.7"
  }
 },
 "nbformat": 4,
 "nbformat_minor": 5
}
